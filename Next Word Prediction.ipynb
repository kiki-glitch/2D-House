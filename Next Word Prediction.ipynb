{
  "nbformat": 4,
  "nbformat_minor": 0,
  "metadata": {
    "colab": {
      "name": "Untitled1.ipynb",
      "provenance": [],
      "authorship_tag": "ABX9TyMWM7qxSN9r9q9W17X5wqCv",
      "include_colab_link": true
    },
    "kernelspec": {
      "name": "python3",
      "display_name": "Python 3"
    },
    "language_info": {
      "name": "python"
    }
  },
  "cells": [
    {
      "cell_type": "markdown",
      "metadata": {
        "id": "view-in-github",
        "colab_type": "text"
      },
      "source": [
        "<a href=\"https://colab.research.google.com/github/kiki-glitch/2D-House/blob/main/Next%20Word%20Prediction.ipynb\" target=\"_parent\"><img src=\"https://colab.research.google.com/assets/colab-badge.svg\" alt=\"Open In Colab\"/></a>"
      ]
    },
    {
      "cell_type": "code",
      "execution_count": 49,
      "metadata": {
        "id": "ylt6LG5CkbgB"
      },
      "outputs": [],
      "source": [
        "from sklearn.feature_extraction.text import TfidfVectorizer\n",
        "from nltk.tokenize import word_tokenize,sent_tokenize\n",
        "from sklearn.decomposition import PCA"
      ]
    },
    {
      "cell_type": "code",
      "source": [
        "import numpy as np\n",
        "import tensorflow as tf\n"
      ],
      "metadata": {
        "id": "fJdSLn2UlSDt"
      },
      "execution_count": 2,
      "outputs": []
    },
    {
      "cell_type": "code",
      "source": [
        "import nltk\n",
        "import math\n",
        "import json\n",
        "import tensorflow_hub as hub\n",
        "import spacy"
      ],
      "metadata": {
        "id": "yCeoIA2plZrs"
      },
      "execution_count": 3,
      "outputs": []
    },
    {
      "cell_type": "code",
      "source": [
        "nltk.download('punkt')\n",
        "nltk.download('gutenberg')"
      ],
      "metadata": {
        "colab": {
          "base_uri": "https://localhost:8080/"
        },
        "id": "SH4vT6O6l017",
        "outputId": "df78b222-f37f-4a80-9519-8c29cf9ce409"
      },
      "execution_count": 5,
      "outputs": [
        {
          "output_type": "stream",
          "name": "stdout",
          "text": [
            "[nltk_data] Downloading package punkt to /root/nltk_data...\n",
            "[nltk_data]   Package punkt is already up-to-date!\n",
            "[nltk_data] Downloading package gutenberg to /root/nltk_data...\n",
            "[nltk_data]   Unzipping corpora/gutenberg.zip.\n"
          ]
        },
        {
          "output_type": "execute_result",
          "data": {
            "text/plain": [
              "True"
            ]
          },
          "metadata": {},
          "execution_count": 5
        }
      ]
    },
    {
      "cell_type": "code",
      "source": [
        "from tensorflow.keras.layers import SimpleRNN,GRU,LSTM,Dense,Embedding,InputLayer,Input\n",
        "from tensorflow.keras.optimizers import Adam\n",
        "from tensorflow.keras.metrics import CategoricalCrossentropy\n",
        "from tensorflow.keras.losses import CategoricalCrossentropy,categorical_crossentropy\n",
        "from tensorflow.keras import Model\n",
        "from tensorflow.keras.preprocessing.text import Tokenizer\n",
        "from tensorflow.keras.preprocessing.sequence import pad_sequences\n",
        "from nltk.corpus import gutenberg"
      ],
      "metadata": {
        "id": "AybpzoSPmE76"
      },
      "execution_count": 10,
      "outputs": []
    },
    {
      "cell_type": "code",
      "source": [
        "data = open(\"0001a.txt\")\n",
        "data=data.read()"
      ],
      "metadata": {
        "id": "33mPyklwm4MO"
      },
      "execution_count": 14,
      "outputs": []
    },
    {
      "cell_type": "code",
      "source": [
        "data"
      ],
      "metadata": {
        "colab": {
          "base_uri": "https://localhost:8080/",
          "height": 140
        },
        "id": "WwmT53BBprJb",
        "outputId": "6cebbe9b-785d-4add-decd-14e2aae3c36a"
      },
      "execution_count": 15,
      "outputs": [
        {
          "output_type": "execute_result",
          "data": {
            "application/vnd.google.colaboratory.intrinsic+json": {
              "type": "string"
            },
            "text/plain": [
              "\"Racism is still a problem within our society today, and many ethnic minorities face inequalities in many areas, including education, housing, and employment. Ethnic minorities are concentrated into certain areas of the job market, such as manufacture and communication (Brown, 1992), are most likely to be the victims of assault (Abercrombie et al, 1994), and recent surveys have shown that racist ideas still exist in society. This can be seen in a survey, carried out in 1993, that asked a white sample whether they agreed or disagreed with the statement: 'Immigration has enriched the quality of life in Britain' and nearly half of the sample disagreed (Abercrombie et al, 1994, p255). In this essay I will look at what racism is, and how it is defined in contemporary society, and I will then explore why it still persists. In this section I will cover three areas that I think have contributed to the continued existence of racism; culture, economy and politics, all of which have meant that racism is an integral and internalised part of our society, however I will not be looking at individual or specific cases of racism, rather exploring a broader explanation as to why it continues. Racism is a very hard concept to define. Hall argues that it is not a static phenomenon, but is constantly changing and redefining (Hall, 1978, cited in Miles, 1989, p64). In the nineteenth century racism was a product of scientific ideas, and the belief that people could be distinguished by the term race, using particular physical features, and that certain races were superior to others (Miles, 1989). However throughout the nineteenth century racism was rejected as a scientific concept (Banton, 1987, cited in Miles, 1989, p49). It is now important to realise that racism is not just an ideology but also a practice, and in contemporary society it has been defined as a process by which subordinated groups are excluded. This idea is expanded on by Carmichael and Hamilton who argue that it is; 'the predication of decisions and policies on considerations of race for the purpose of subordinating a racial group and maintaining control over that group' (Carmichael and Hamilton, 1968, cited in Miles, 1989, p51). This acknowledges that racism is not just a belief, but also an action, but in this essay I will concentrate on why the ideology of racism is still prevalent within society, as without the continuation of the ideology then racist actions would not take place. I will now look at why racism still persists in society, and the first explanation I will consider is culture. Racist beliefs are part of a legacy of both the slave trade and colonialism as racial categorisation played a large part in the justification of both periods. The idea that humankind was split into different races and that certain races, usually white British, were superior was strong at the time, and reinforced to justify slavery and imperialism. These ideas have left a strong legacy in coloniser societies today (Fenton, 1999). Europeans constructed themselves as the representatives of superior civilisation, and in doing so also constructed those from other countries as the 'Other', a group of people who were uncivilised, and therefore inferior to the West, an idea that was reinforced through literature, as many travellers at the time focused on the abnormal characteristics of the 'Other', and helped construct the idea that they were barbaric and uncivilised (Miles, 1989). Characteristics such as cannibalism and the degradation of women were picked out as features that made those from the colonised states racially inferior, and uncivilised, and reinforced the idea that a racialist hierarchy existed that placed those from the West at the top. By defining people from these countries as the 'Other' they were automatically excluded from the society of the West (Miles, 1989). Although this construction is no longer as prevalent in society, it has impacted on racism in society today. Images and ideas that were associated with the 'Other', for example the veil in Islam, are still around today, and the racial ideas that were leant to these images still exist. There is also the idea that White Europeans wished to continue their superiority over colonised societies, so sustained the ideas associated with the inferior 'Other' in order to maintain it (Fenton, 1999). It can also be argued that racism persists through culture due to the ideas of nationalism. Nationalism is a very popular discourse in contemporary society, as it was during the period of colonialisation, and the two are very closely linked, with ideas of nationalism often associated with both the ideology and actions of racism (Fenton, 1999). Overall colonialism has impacted on the racist ideas prevalent in today's society, as although the concept of 'Other' that existed in the nineteenth century no longer continues the definition of 'Other' has changed (Miles, 1989), and it has left a legacy of racism in contemporary society. However this is not the only reason for the continuation of racism, economic factors have also had an impact. The racism apparent at the time of colonialisation has been reinforced through the labour market. During this period the racial ideas were put into practice in the economy as those constructed as the 'Other' were exploited through the trade links established with the colonies, by those in power (Miles, 1989) showing that racialism has been imbedded into the economy since before capitalism. However since the emergence of capitalism these racist ideas have been used to support the capitalist market. Capitalists have ensured that ethnic minorities are viewed as suitable only for menial jobs, as they can easily exploit them, and this has reinforced the idea that race determines your skills and abilities, therefore causing racism to be imbedded within the capitalist market (Fenton, 1999). Castles and Kosack have argued that capitalism requires a 'reserve army of labour' to ensure the successful continuation of the economic production along capitalist values, and that ethnic minorities provide this army (Procter, Lecture notes, 2004). However by constructing ethnic minorities as a reserve army of labour racist beliefs are reinforced, as they are viewed as both inferior and only suitable for inferior jobs, but also as a threat to the white workers, creating a sense of racism in white workers. Therefore the racist beliefs apparent in the culture of colonialism are recreated in the current economy, ensuring that racism persists, although there are some problems with this idea as it ignores the white people employed in menial jobs and over emphasises the idea that ethnic minorities are needed as a 'reserve army of labour' (Miles, 1989). However politics, and the policies of British political parties over the twentieth century have also ensured that these racial ideas continue. Since the Second World War British politics reinforced have the idea that those from other races are inferior. In the 1950s both the Labour and Conservative Parties were openly racist (Brown, 1992), and they constructed immigrants as a social problem. Throughout the 1950s the debates on immigration focused on the idea that the number of black immigrants entering Britain needed to be restricted as they were posing a threat to British society. Immigrants were linked with social problems, including shortages of housing and crime, and through this connection racism was reinforced, as people began to see immigrants and people from other races as a problem. Emphasis was put on their undesirable behaviour, for example crime, and prostitution, despite the fact that much of this was not carried out by immigrants (Solomos, 1989, ensuring that people linked the idea of undesirable with immigrants. This construction of immigrants as a problem continued throughout out the 1960s, and in 1962 the Commonwealth Immigrants Act was introduced, which placed restrictions on the number of black immigrants entering the country (Solomos, 1989). By the 1970s legislation had been bought in which controlled the entry of non-white immigrants through a voucher system, giving the government control over who entered the country, and what work they could do following their entry (Brown, 1992). This political racism persisted after 1979, with Margaret Thatcher again emphasising the danger to British society that immigrants pose (Solomos, 1989), and these ideas can still be seen today, with the current clamp-down on the number of asylum seekers entering the country. Overall the policies of the government since the Second World War have made racism an integral part of our society, and ensured that non-whites are still viewed with distaste and seen as inferior. In conclusion racism, which can be defined as an ideology which categorises people as inferior according to their race, and is put into practice through many policies and actions, which seek to exclude non-whites from many areas of society, can still be seen in today's society. There are three reasons for this. Firstly the culture of colonialism and the belief that the 'Other' is inferior is still apparent in our society today. Secondly these beliefs are reinforced through the economy, as capitalism exploits ethnic minorities, and ensures that they are viewed as less skilled, and finally racism is embedded in our political system through the policies of political parties and the links they make between non-white immigrants and social problems. All of these processes work together in contemporary society to ensure that racism still continues, and non-whites are excluded. \""
            ]
          },
          "metadata": {},
          "execution_count": 15
        }
      ]
    },
    {
      "cell_type": "code",
      "source": [
        "corpus_list=[]\n",
        "corpus=sent_tokenize(data)\n",
        "for sent in corpus:\n",
        "  corpus_list.append([sent])"
      ],
      "metadata": {
        "id": "yFf2cPJHpssu"
      },
      "execution_count": 16,
      "outputs": []
    },
    {
      "cell_type": "code",
      "source": [
        "corpus_list"
      ],
      "metadata": {
        "id": "BqnIDSKmqQZx"
      },
      "execution_count": null,
      "outputs": []
    },
    {
      "cell_type": "code",
      "source": [
        "len(corpus_list)"
      ],
      "metadata": {
        "colab": {
          "base_uri": "https://localhost:8080/"
        },
        "id": "kDoYDiecrRJc",
        "outputId": "1b5fb018-5ce4-470d-c79c-75b665f4d791"
      },
      "execution_count": 29,
      "outputs": [
        {
          "output_type": "execute_result",
          "data": {
            "text/plain": [
              "48"
            ]
          },
          "metadata": {},
          "execution_count": 29
        }
      ]
    },
    {
      "cell_type": "code",
      "source": [
        "vectorizer = TfidfVectorizer()"
      ],
      "metadata": {
        "id": "x_6DgY2UqcoQ"
      },
      "execution_count": 30,
      "outputs": []
    },
    {
      "cell_type": "code",
      "source": [
        "x =vectorizer.fit_transform(corpus)"
      ],
      "metadata": {
        "id": "v6A94ZRUrs2U"
      },
      "execution_count": 31,
      "outputs": []
    },
    {
      "cell_type": "code",
      "source": [
        "x.shape\n"
      ],
      "metadata": {
        "colab": {
          "base_uri": "https://localhost:8080/"
        },
        "id": "GJKEM92Rryxg",
        "outputId": "9b543306-a544-4d9e-a1f2-30e343ea0005"
      },
      "execution_count": 35,
      "outputs": [
        {
          "output_type": "execute_result",
          "data": {
            "text/plain": [
              "(48, 459)"
            ]
          },
          "metadata": {},
          "execution_count": 35
        }
      ]
    },
    {
      "cell_type": "code",
      "source": [
        "vocab=vectorizer.get_feature_names_out()"
      ],
      "metadata": {
        "id": "jQic1nfmrzhQ"
      },
      "execution_count": 40,
      "outputs": []
    },
    {
      "cell_type": "code",
      "source": [
        "vocab"
      ],
      "metadata": {
        "colab": {
          "base_uri": "https://localhost:8080/"
        },
        "id": "gvEgXIAHtAeL",
        "outputId": "aac38fcd-9bbe-4362-e838-bf1a948c31d6"
      },
      "execution_count": 41,
      "outputs": [
        {
          "output_type": "execute_result",
          "data": {
            "text/plain": [
              "array(['1950s', '1960s', '1962', '1968', '1970s', '1978', '1979', '1987',\n",
              "       '1989', '1992', '1993', '1994', '1999', '2004', 'abercrombie',\n",
              "       'abilities', 'abnormal', 'according', 'acknowledges', 'act',\n",
              "       'action', 'actions', 'after', 'again', 'agreed', 'al', 'all',\n",
              "       'along', 'also', 'although', 'an', 'and', 'apparent', 'are',\n",
              "       'areas', 'argue', 'argued', 'argues', 'army', 'around', 'as',\n",
              "       'asked', 'assault', 'associated', 'asylum', 'at', 'automatically',\n",
              "       'banton', 'barbaric', 'be', 'been', 'before', 'began', 'behaviour',\n",
              "       'belief', 'beliefs', 'between', 'black', 'both', 'bought',\n",
              "       'britain', 'british', 'broader', 'brown', 'but', 'by', 'can',\n",
              "       'cannibalism', 'capitalism', 'capitalist', 'capitalists',\n",
              "       'carmichael', 'carried', 'cases', 'castles', 'categorisation',\n",
              "       'categorises', 'causing', 'century', 'certain', 'changed',\n",
              "       'changing', 'characteristics', 'cited', 'civilisation', 'clamp',\n",
              "       'closely', 'colonialisation', 'colonialism', 'colonies',\n",
              "       'colonised', 'coloniser', 'commonwealth', 'communication',\n",
              "       'concentrate', 'concentrated', 'concept', 'conclusion',\n",
              "       'connection', 'conservative', 'consider', 'considerations',\n",
              "       'constantly', 'construct', 'constructed', 'constructing',\n",
              "       'construction', 'contemporary', 'continuation', 'continue',\n",
              "       'continued', 'continues', 'contributed', 'control', 'controlled',\n",
              "       'could', 'countries', 'country', 'cover', 'creating', 'crime',\n",
              "       'culture', 'current', 'danger', 'debates', 'decisions', 'define',\n",
              "       'defined', 'defining', 'definition', 'degradation', 'despite',\n",
              "       'determines', 'different', 'disagreed', 'discourse', 'distaste',\n",
              "       'distinguished', 'do', 'doing', 'down', 'due', 'during', 'easily',\n",
              "       'economic', 'economy', 'education', 'embedded', 'emergence',\n",
              "       'emphasis', 'emphasises', 'emphasising', 'employed', 'employment',\n",
              "       'enriched', 'ensure', 'ensured', 'ensures', 'ensuring', 'entered',\n",
              "       'entering', 'entry', 'essay', 'established', 'et', 'ethnic',\n",
              "       'europeans', 'example', 'exclude', 'excluded', 'exist', 'existed',\n",
              "       'existence', 'expanded', 'explanation', 'exploit', 'exploited',\n",
              "       'exploits', 'explore', 'exploring', 'face', 'fact', 'factors',\n",
              "       'features', 'fenton', 'finally', 'first', 'firstly', 'focused',\n",
              "       'following', 'for', 'from', 'giving', 'government', 'group',\n",
              "       'groups', 'had', 'half', 'hall', 'hamilton', 'hard', 'has', 'have',\n",
              "       'helped', 'hierarchy', 'housing', 'how', 'however', 'humankind',\n",
              "       'idea', 'ideas', 'ideology', 'ignores', 'images', 'imbedded',\n",
              "       'immigrants', 'immigration', 'impact', 'impacted', 'imperialism',\n",
              "       'important', 'in', 'including', 'individual', 'inequalities',\n",
              "       'inferior', 'integral', 'internalised', 'into', 'introduced', 'is',\n",
              "       'islam', 'it', 'job', 'jobs', 'just', 'justification', 'justify',\n",
              "       'kosack', 'labour', 'large', 'leant', 'lecture', 'left', 'legacy',\n",
              "       'legislation', 'less', 'life', 'likely', 'linked', 'links',\n",
              "       'literature', 'longer', 'look', 'looking', 'made', 'maintain',\n",
              "       'maintaining', 'make', 'manufacture', 'many', 'margaret', 'market',\n",
              "       'meant', 'menial', 'miles', 'minorities', 'most', 'much',\n",
              "       'nationalism', 'nearly', 'needed', 'nineteenth', 'no', 'non',\n",
              "       'not', 'notes', 'now', 'number', 'of', 'often', 'on', 'only',\n",
              "       'openly', 'or', 'order', 'other', 'others', 'our', 'out', 'over',\n",
              "       'overall', 'p255', 'p49', 'p51', 'p64', 'part', 'particular',\n",
              "       'parties', 'people', 'period', 'periods', 'persisted', 'persists',\n",
              "       'phenomenon', 'physical', 'picked', 'place', 'placed', 'played',\n",
              "       'policies', 'political', 'politics', 'popular', 'pose', 'posing',\n",
              "       'power', 'practice', 'predication', 'prevalent', 'problem',\n",
              "       'problems', 'process', 'processes', 'procter', 'product',\n",
              "       'production', 'prostitution', 'provide', 'purpose', 'put',\n",
              "       'quality', 'race', 'races', 'racial', 'racialism', 'racialist',\n",
              "       'racially', 'racism', 'racist', 'rather', 'realise', 'reason',\n",
              "       'reasons', 'recent', 'recreated', 'redefining', 'reinforced',\n",
              "       'rejected', 'representatives', 'requires', 'reserve', 'restricted',\n",
              "       'restrictions', 'sample', 'scientific', 'second', 'secondly',\n",
              "       'section', 'see', 'seek', 'seekers', 'seen', 'sense', 'shortages',\n",
              "       'showing', 'shown', 'since', 'skilled', 'skills', 'slave',\n",
              "       'slavery', 'so', 'social', 'societies', 'society', 'solomos',\n",
              "       'some', 'specific', 'split', 'statement', 'states', 'static',\n",
              "       'still', 'strong', 'subordinated', 'subordinating', 'successful',\n",
              "       'such', 'suitable', 'superior', 'superiority', 'support', 'survey',\n",
              "       'surveys', 'sustained', 'system', 'take', 'term', 'that',\n",
              "       'thatcher', 'the', 'their', 'them', 'themselves', 'then', 'there',\n",
              "       'therefore', 'these', 'they', 'think', 'this', 'those', 'threat',\n",
              "       'three', 'through', 'throughout', 'time', 'to', 'today',\n",
              "       'together', 'top', 'trade', 'travellers', 'twentieth', 'two',\n",
              "       'uncivilised', 'undesirable', 'used', 'using', 'usually', 'values',\n",
              "       'veil', 'very', 'victims', 'viewed', 'voucher', 'war', 'was',\n",
              "       'were', 'west', 'what', 'whether', 'which', 'white', 'whites',\n",
              "       'who', 'why', 'will', 'wished', 'with', 'within', 'without',\n",
              "       'women', 'work', 'workers', 'world', 'would', 'your'], dtype=object)"
            ]
          },
          "metadata": {},
          "execution_count": 41
        }
      ]
    },
    {
      "cell_type": "code",
      "source": [
        "len(vocab)"
      ],
      "metadata": {
        "colab": {
          "base_uri": "https://localhost:8080/"
        },
        "id": "A52jbdPWtKLO",
        "outputId": "e1ad6b20-2af4-45f0-d27b-c1866e96be7c"
      },
      "execution_count": 42,
      "outputs": [
        {
          "output_type": "execute_result",
          "data": {
            "text/plain": [
              "459"
            ]
          },
          "metadata": {},
          "execution_count": 42
        }
      ]
    },
    {
      "cell_type": "code",
      "source": [
        "embeddings_array=x.toarray().T"
      ],
      "metadata": {
        "id": "3yV-6U0Itl27"
      },
      "execution_count": 43,
      "outputs": []
    },
    {
      "cell_type": "code",
      "source": [
        "vocab[100]"
      ],
      "metadata": {
        "id": "6cw2exclzR9F"
      },
      "execution_count": null,
      "outputs": []
    },
    {
      "cell_type": "code",
      "source": [
        "embeddings_array[100].shape"
      ],
      "metadata": {
        "id": "ytoIRjs5t7Os"
      },
      "execution_count": null,
      "outputs": []
    },
    {
      "cell_type": "code",
      "source": [
        "pca=PCA(n_components=10)"
      ],
      "metadata": {
        "id": "GeFIChe8t-vq"
      },
      "execution_count": 50,
      "outputs": []
    },
    {
      "cell_type": "code",
      "source": [
        "dense_embedding=pca.fit_transform(embeddings_array)"
      ],
      "metadata": {
        "id": "t9k8Fv-p2JYf"
      },
      "execution_count": 52,
      "outputs": []
    },
    {
      "cell_type": "code",
      "source": [
        "dense_embedding[100]"
      ],
      "metadata": {
        "colab": {
          "base_uri": "https://localhost:8080/"
        },
        "id": "BbGaGypZ2QEp",
        "outputId": "a06932cf-714e-48ab-c711-4e90192c254f"
      },
      "execution_count": 55,
      "outputs": [
        {
          "output_type": "execute_result",
          "data": {
            "text/plain": [
              "array([-0.03704366,  0.09687834, -0.01541963, -0.02756388,  0.0899429 ,\n",
              "       -0.0119096 ,  0.02746598,  0.07643841,  0.07995811,  0.0352388 ])"
            ]
          },
          "metadata": {},
          "execution_count": 55
        }
      ]
    },
    {
      "cell_type": "code",
      "source": [
        "embeddings_dict={}"
      ],
      "metadata": {
        "id": "WIuFXG4D2jbZ"
      },
      "execution_count": 59,
      "outputs": []
    },
    {
      "cell_type": "code",
      "source": [
        "for i in range(len(vocab)):\n",
        "  embeddings_dict[vocab[i]]=dense_embedding[i].tolist()"
      ],
      "metadata": {
        "id": "qZFVlNvf2_hs"
      },
      "execution_count": 62,
      "outputs": []
    },
    {
      "cell_type": "code",
      "source": [
        ""
      ],
      "metadata": {
        "id": "KRUAi3uE30Ta"
      },
      "execution_count": null,
      "outputs": []
    }
  ]
}